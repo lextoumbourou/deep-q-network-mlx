{
 "cells": [
  {
   "cell_type": "markdown",
   "id": "53538c9c-fc38-446e-8f2a-f3da8bcd25d7",
   "metadata": {},
   "source": [
    "# Deep Q-Network Code Walkthrough in MLX"
   ]
  },
  {
   "cell_type": "markdown",
   "id": "0f088d32-c83e-4daa-b044-f67ad4a35b96",
   "metadata": {},
   "source": [
    "In this video, we're going to implement a classic paper from all the way back from 2013.\n",
    "\n",
    "I'm going to assume you have some level of famililarity with neural network concepts like convolutional neural networks and fully-connected layers, but "
   ]
  },
  {
   "cell_type": "code",
   "execution_count": null,
   "id": "af27db73-81e3-460b-b643-8eb7b6e3fd85",
   "metadata": {},
   "outputs": [],
   "source": []
  },
  {
   "cell_type": "markdown",
   "id": "8a6e28cb-f0f7-44cc-8466-8c8368e05eeb",
   "metadata": {},
   "source": [
    "\n",
    "\n",
    "Neural Network Reinforcement Learning system described in [Playing Atari with Deep Reinforcement Learning](playing-atari-with-deep-reinforcement-learning.md).\n",
    "\n",
    "## ALE\n",
    "\n",
    "The [[Arcade Learning Environment]] paper came out in 2012, and provided an evaluation set encouraging people to try reinforcement learning algorithms on Atari console games.\n",
    "\n",
    "## DeepMind\n",
    "\n",
    " Hassabis and Legg first met at the Gatsby Computational Neuroscience Unit at University College London (UCL), where they were interested in building general purpose AIs that could beat video games.\n",
    "\n",
    "### CNN\n",
    "\n",
    "A year earlier, a research team had taken LeCunn's CNNs, and trained it on ImageNet, to demonstrate the capacity of CNNs to reason from raw image pixels.\n",
    "\n",
    "Now you have the team attempting to demonstrate that you can take this idea of Q-Learning, but instead of a recursive algorithm you can use a neural entwork trained on raw pixel frames to predict next action, to maximise rewards.\n",
    "\n",
    "## Architecture\n",
    "\n",
    "I'm going to write [Deep Q-Network](deep-q-network.md) model from scratch using MLX.\n",
    "\n",
    "DQN is a historical algorithm for reinforcement learning, that was one of the pioneer of the utilisation of neural networks in reinforcement learning.\n",
    "\n",
    "The describe it as:\n",
    "\n",
    "\"\"\"\n",
    "The input to the neural network consists is an 84 × 84 × 4 image produced by φ.\n",
    "\n",
    "The first hidden layer convolves 16 8 × 8 filters with stride 4 with the input image and applies a rectifier nonlinearity [10, 18].\n",
    "\n",
    "The second hidden layer convolves 32 4 × 4 filters with stride 2, again followed by a rectifier nonlinearity.\n",
    "\n",
    "The final hidden layer is fully-connected and consists of 256 rectifier units.\n",
    "\n",
    "The output layer is a fully-connected linear layer with a single output for each valid action.\n",
    "\n",
    "The number of valid actions varied between 4 and 18 on the games we considered.\n",
    "\n",
    "We refer to convolutional networks trained with our approach as Deep Q-Networks (DQN).\n",
    "\"\"\"\n",
    "\n",
    "So let's build that in MLX. I'm a bit new to MLX, but I'm interested in learning it, so this video is kind of going to be me learning it with you.\n",
    "\n",
    "The idea of DQN is that an agent gets the next action to take from a neural network.\n",
    "\n",
    "The network they build is a convolutional layer network network with only 2 conv layers and a hidden layer.\n",
    "\n",
    "So they have an input of batch, img height, img width, frames"
   ]
  },
  {
   "cell_type": "code",
   "execution_count": 1,
   "id": "755fe799-3733-41a5-9793-9292148c4fe9",
   "metadata": {},
   "outputs": [
    {
     "data": {
      "text/plain": [
       "(32, 84, 84, 4)"
      ]
     },
     "execution_count": 1,
     "metadata": {},
     "output_type": "execute_result"
    }
   ],
   "source": [
    "import mlx.core as mx\n",
    "\n",
    "batch_size = 32\n",
    "input = mx.random.normal((batch_size, 84, 84, 4))\n",
    "input.shape\n",
    "# (32, 84, 84, 4)"
   ]
  },
  {
   "cell_type": "markdown",
   "id": "10346572-9275-441e-9be5-59f6c5a6b4fb",
   "metadata": {},
   "source": [
    "\n",
    "The nn package in mlx contains a bunch of useful neural network implementations, including a convolution. \n",
    "\n",
    "So we can implement the first convolutional layer, it is a : \"first hidden layer convolves 16 8 × 8 filters with stride 4 with the input image and applies a rectifier nonlinearity\""
   ]
  },
  {
   "cell_type": "code",
   "execution_count": 2,
   "id": "3f232a56-15a5-4639-abb6-3ed3009cdd95",
   "metadata": {},
   "outputs": [
    {
     "data": {
      "text/plain": [
       "(32, 20, 20, 16)"
      ]
     },
     "execution_count": 2,
     "metadata": {},
     "output_type": "execute_result"
    }
   ],
   "source": [
    "import mlx.nn as nn\n",
    "\n",
    "# Define the first convolutional layer\n",
    "conv1 = nn.Conv2d(in_channels=4, out_channels=16, kernel_size=8, stride=4)\n",
    "relu = nn.relu\n",
    "hidden1 = relu(conv1(input))\n",
    "hidden1.shape\n",
    "# (32, 20, 20, 16)"
   ]
  },
  {
   "cell_type": "markdown",
   "id": "10dafe38-a99d-4695-a220-58300d8cb81d",
   "metadata": {},
   "source": [
    "The gives us a 20x20 shape with 16 channels. The next layer:\n",
    "\n",
    "The second hidden layer convolves 32 4 × 4 filters with stride 2, again followed by a rectifier nonlinearity. "
   ]
  },
  {
   "cell_type": "code",
   "execution_count": 3,
   "id": "3b5cc159-c553-49e6-8038-642460f6742a",
   "metadata": {},
   "outputs": [
    {
     "data": {
      "text/plain": [
       "(32, 9, 9, 32)"
      ]
     },
     "execution_count": 3,
     "metadata": {},
     "output_type": "execute_result"
    }
   ],
   "source": [
    "conv2 = nn.Conv2d(in_channels=16, out_channels=32, kernel_size=4, stride=2)\n",
    "hidden2 = relu(conv2(hidden1))\n",
    "hidden2.shape\n",
    "# (32, 9, 9, 32)"
   ]
  },
  {
   "cell_type": "markdown",
   "id": "71628229-440a-4598-9900-55656ff1b03d",
   "metadata": {},
   "source": [
    "\n",
    "Then they flatten that, and pass it into a linear layer:\n",
    "\n",
    "The final hidden layer is fully-connected and consists of 256 rectifier units."
   ]
  },
  {
   "cell_type": "code",
   "execution_count": 4,
   "id": "b022fd0a-d7c2-4e48-83ac-b1f279562307",
   "metadata": {},
   "outputs": [
    {
     "data": {
      "text/plain": [
       "2592"
      ]
     },
     "execution_count": 4,
     "metadata": {},
     "output_type": "execute_result"
    }
   ],
   "source": [
    "9 * 9 * 32"
   ]
  },
  {
   "cell_type": "code",
   "execution_count": 5,
   "id": "6bfa1f99-ae76-4cff-a069-7169348dae19",
   "metadata": {},
   "outputs": [
    {
     "data": {
      "text/plain": [
       "(32, 2592)"
      ]
     },
     "execution_count": 5,
     "metadata": {},
     "output_type": "execute_result"
    }
   ],
   "source": [
    "hidden3 = hidden2.reshape(batch_size, -1)\n",
    "hidden3.shape\n",
    "(32, 2592)"
   ]
  },
  {
   "cell_type": "code",
   "execution_count": 6,
   "id": "bfe9e152-1b90-416e-9dee-e3e7a59e08f9",
   "metadata": {},
   "outputs": [
    {
     "data": {
      "text/plain": [
       "(32, 256)"
      ]
     },
     "execution_count": 6,
     "metadata": {},
     "output_type": "execute_result"
    }
   ],
   "source": [
    "fc1 = nn.Linear(input_dims=2592, output_dims=256)\n",
    "hidden3 = fc1(hidden3)\n",
    "hidden3.shape\n",
    "# (32, 256)"
   ]
  },
  {
   "cell_type": "markdown",
   "id": "339fc64f-989a-445e-a210-32c3aab16337",
   "metadata": {},
   "source": [
    "The output layer is a fullyconnected linear layer with a single output for each valid action."
   ]
  },
  {
   "cell_type": "code",
   "execution_count": 7,
   "id": "10af0cda-dedd-42ab-9a82-6196410f6404",
   "metadata": {},
   "outputs": [
    {
     "data": {
      "text/plain": [
       "(32, 5)"
      ]
     },
     "execution_count": 7,
     "metadata": {},
     "output_type": "execute_result"
    }
   ],
   "source": [
    "# Pacman has 4 valid actions.\n",
    "num_actions = 5\n",
    "\n",
    "fc2 = nn.Linear(input_dims=256, output_dims=num_actions)\n",
    "out = fc2(hidden3)\n",
    "out.shape\n",
    "# (32, 4)"
   ]
  },
  {
   "cell_type": "markdown",
   "id": "e8e584aa-f4b0-4339-add9-d530698a3b29",
   "metadata": {},
   "source": [
    "So that's the simple version of the architecture. I've seen a lot of implementations online that add another convolutional layer.\n",
    "\n",
    "Here is is all together:"
   ]
  },
  {
   "cell_type": "code",
   "execution_count": 8,
   "id": "652836b2-3b6a-4fdc-986d-3cd81955b817",
   "metadata": {},
   "outputs": [
    {
     "name": "stdout",
     "output_type": "stream",
     "text": [
      "(32, 5)\n"
     ]
    }
   ],
   "source": [
    "import mlx.core as mx\n",
    "import mlx.nn as nn\n",
    "\n",
    "class DQN(nn.Module):\n",
    "    def __init__(self, num_actions: int):\n",
    "        super().__init__()\n",
    "        self.conv1 = nn.Conv2d(in_channels=4, out_channels=16, kernel_size=8, stride=4)\n",
    "        self.conv2 = nn.Conv2d(in_channels=16, out_channels=32, kernel_size=4, stride=2)\n",
    "\n",
    "        self.fc1 = nn.Linear(2592, 256)  # 9x9x32 = 2592\n",
    "        self.fc2 = nn.Linear(256, num_actions)\n",
    "\n",
    "    def __call__(self, x):\n",
    "        x = nn.relu(self.conv1(x))  # (batch, 84, 84, 4) → (batch, 20, 20, 16)\n",
    "        x = nn.relu(self.conv2(x))  # → (batch, 9, 9, 32)\n",
    "        batch_size = x.shape[0]\n",
    "        x = x.reshape(batch_size, -1)        # → (batch, 2592)\n",
    "        x = nn.relu(self.fc1(x))    # → (batch, 256)\n",
    "        x = self.fc2(x)             # → (batch, num_actions)\n",
    "        return x\n",
    "\n",
    "\n",
    "batch_size = 32\n",
    "num_actions = 5\n",
    "input = mx.random.normal((batch_size, 84, 84, 4))\n",
    "\n",
    "model = DQN(num_actions)\n",
    "output = model(input)\n",
    "print(output.shape)  # (32, 4)"
   ]
  },
  {
   "cell_type": "markdown",
   "id": "439308c3-299d-460f-b51d-5486405cc051",
   "metadata": {},
   "source": [
    "### Dataset\n",
    "\n",
    "OpenAI released a library called gym, which was discontinued, but another community library gynamisum provides a compatbile API, and yet another library called ale_py that now has all the Atari game ROMs.\n",
    "\n",
    "I'm going to load the PacMan. It was one of the games tested in the paper, and the player is limited to 5 actions: nothing, up, right, left, down."
   ]
  },
  {
   "cell_type": "code",
   "execution_count": 9,
   "id": "5cdc15c4-7aec-4acc-8e95-e27322eed197",
   "metadata": {},
   "outputs": [
    {
     "name": "stderr",
     "output_type": "stream",
     "text": [
      "A.L.E: Arcade Learning Environment (version 0.11.0+dfae0bd)\n",
      "[Powered by Stella]\n"
     ]
    }
   ],
   "source": [
    "import gymnasium as gym\n",
    "import ale_py\n",
    "\n",
    "env = gym.make(\"ALE/Pacman-v5\")"
   ]
  },
  {
   "cell_type": "markdown",
   "id": "5471f5e1-5efe-4c13-b5a8-768a59778835",
   "metadata": {},
   "source": [
    "An Env is a class that provides a helpful game wrapper.\n",
    "\n",
    "We can see available actions:"
   ]
  },
  {
   "cell_type": "code",
   "execution_count": 10,
   "id": "0862b4cd-0839-49fe-9e6e-6f8bb936da3f",
   "metadata": {},
   "outputs": [
    {
     "data": {
      "text/plain": [
       "np.int64(5)"
      ]
     },
     "execution_count": 10,
     "metadata": {},
     "output_type": "execute_result"
    }
   ],
   "source": [
    "env.action_space.n"
   ]
  },
  {
   "cell_type": "markdown",
   "id": "b048d7f6-bf75-4c92-a767-8f11ed1a2d90",
   "metadata": {},
   "source": [
    "There's a few methods we're interested in: reset and step"
   ]
  },
  {
   "cell_type": "markdown",
   "id": "bdacd5ec-0adc-4466-9940-043fde5d6da9",
   "metadata": {},
   "source": [
    "which resets the env. It gives us two objects. The observation, which is a numpy array containing a graphical representation of the game. "
   ]
  },
  {
   "cell_type": "code",
   "execution_count": 11,
   "id": "44d8ea78-28a2-4703-9c6b-471d9c200be6",
   "metadata": {},
   "outputs": [
    {
     "data": {
      "text/plain": [
       "(250, 160, 3)"
      ]
     },
     "execution_count": 11,
     "metadata": {},
     "output_type": "execute_result"
    }
   ],
   "source": [
    "observation, info = env.reset()\n",
    "observation.shape\n",
    "# (210, 160, 3)"
   ]
  },
  {
   "cell_type": "code",
   "execution_count": 12,
   "id": "24ecdeae-5474-4866-8e05-e5c9ea00ab68",
   "metadata": {},
   "outputs": [
    {
     "data": {
      "image/png": "[encoded data removed]",
      "text/plain": [
       "<Figure size 640x480 with 1 Axes>"
      ]
     },
     "metadata": {},
     "output_type": "display_data"
    }
   ],
   "source": [
    "from matplotlib import pyplot as plt\n",
    "\n",
    "plt.imshow(observation)\n",
    "plt.title(\"Atari Observation\")\n",
    "plt.axis(\"off\")\n",
    "plt.imsave(\"observation.png\", observation)"
   ]
  },
  {
   "cell_type": "markdown",
   "id": "5cde4372-fe9a-461c-96be-874c2b6dc99b",
   "metadata": {},
   "source": [
    "And step, which takes an action in the game. For example, let me move right one. It also returns the next observation after taking that step, as well as a reward, a bool as to wheter it was terminated, antoher bool for truncated (maybe the game went to long), and a dict containing useful info."
   ]
  },
  {
   "cell_type": "code",
   "execution_count": 13,
   "id": "32d28b14-d8d4-42fa-a8eb-6a5417ea906b",
   "metadata": {},
   "outputs": [],
   "source": [
    "right_action = 2\n",
    "for i in range(10000):\n",
    "    observation, reward, terminated, truncated, info = env.step(right_action)"
   ]
  },
  {
   "cell_type": "code",
   "execution_count": 14,
   "id": "d487b212-a04e-468f-8ae0-d94210a83929",
   "metadata": {},
   "outputs": [
    {
     "data": {
      "image/png": "[encoded data removed]",
      "text/plain": [
       "<Figure size 640x480 with 1 Axes>"
      ]
     },
     "metadata": {},
     "output_type": "display_data"
    }
   ],
   "source": [
    "plt.imshow(observation)\n",
    "plt.title(\"Atari Observation\")\n",
    "plt.axis(\"off\")\n",
    "plt.imsave(\"observation_after.png\", observation)"
   ]
  },
  {
   "cell_type": "markdown",
   "id": "cdbd4add-e0c7-4def-a70a-46b3596991c9",
   "metadata": {},
   "source": [
    "With that in mind, we can write a simple loop that randomly walks through the game, until a done condition occurs, either we're terminated or truncated."
   ]
  },
  {
   "cell_type": "code",
   "execution_count": 15,
   "id": "9e0e75d6-2fb2-457d-a0ea-4345787c0a97",
   "metadata": {},
   "outputs": [
    {
     "name": "stderr",
     "output_type": "stream",
     "text": [
      "/Users/lex/code/deep-q-network-mlx/.venv/lib/python3.10/site-packages/gymnasium/wrappers/rendering.py:283: UserWarning: \u001b[33mWARN: Overwriting existing videos at /Users/lex/code/deep-q-network-mlx/videos folder (try specifying a different `video_folder` for the `RecordVideo` wrapper if this is not desired)\u001b[0m\n",
      "  logger.warn(\n"
     ]
    }
   ],
   "source": [
    "import gymnasium as gym\n",
    "import ale_py\n",
    "import random\n",
    "\n",
    "env = gym.wrappers.RecordVideo(\n",
    "    gym.make(\"ALE/Pacman-v5\", render_mode=\"rgb_array\"),\n",
    "    video_folder=\"videos/\",\n",
    "    episode_trigger=lambda episode_id: True  # Record every episode\n",
    ")\n",
    "\n",
    "observation, info = env.reset()\n",
    "\n",
    "done = False\n",
    "while not done:\n",
    "    action = random.choice(range(env.action_space.n))\n",
    "    observation, reward, terminated, truncated, info = env.step(action)\n",
    "    done = terminated or truncated\n",
    "\n",
    "env.close()"
   ]
  },
  {
   "cell_type": "code",
   "execution_count": 16,
   "id": "0607f16b-e58f-4fb5-9235-addacb9b31d1",
   "metadata": {},
   "outputs": [],
   "source": [
    "from IPython.display import Video"
   ]
  },
  {
   "cell_type": "code",
   "execution_count": 17,
   "id": "0614980b-52d6-4cfd-aa45-da4f35d15290",
   "metadata": {},
   "outputs": [
    {
     "name": "stdout",
     "output_type": "stream",
     "text": [
      "total 896\n",
      "-rw-r--r--@ 1 lex  staff   52441  5 May 07:50 rl-video-episode-0.mp4\n",
      "-rw-r--r--@ 1 lex  staff    4292  4 May 15:30 rl-video-episode-1.mp4\n",
      "-rw-r--r--@ 1 lex  staff   50260  4 May 15:36 rl-video-episode-10.mp4\n",
      "-rw-r--r--@ 1 lex  staff   23386  4 May 15:42 rl-video-episode-11.mp4\n",
      "-rw-r--r--@ 1 lex  staff    4292  4 May 15:30 rl-video-episode-2.mp4\n",
      "-rw-r--r--@ 1 lex  staff    4292  4 May 15:32 rl-video-episode-3.mp4\n",
      "-rw-r--r--@ 1 lex  staff    4825  4 May 15:33 rl-video-episode-4.mp4\n",
      "-rw-r--r--@ 1 lex  staff    4825  4 May 15:33 rl-video-episode-5.mp4\n",
      "-rw-r--r--@ 1 lex  staff    4825  4 May 15:33 rl-video-episode-6.mp4\n",
      "-rw-r--r--@ 1 lex  staff  176953  4 May 15:34 rl-video-episode-7.mp4\n",
      "-rw-r--r--@ 1 lex  staff   84074  4 May 15:34 rl-video-episode-8.mp4\n",
      "-rw-r--r--@ 1 lex  staff    8430  4 May 15:35 rl-video-episode-9.mp4\n"
     ]
    }
   ],
   "source": [
    "!ls -l videos/"
   ]
  },
  {
   "cell_type": "code",
   "execution_count": 18,
   "id": "bb12ab1a-40a0-4692-837d-854a81a8e40f",
   "metadata": {},
   "outputs": [
    {
     "data": {
      "text/html": [
       "<video src=\"videos/rl-video-episode-0.mp4\" controls  >\n",
       "      Your browser does not support the <code>video</code> element.\n",
       "    </video>"
      ],
      "text/plain": [
       "<IPython.core.display.Video object>"
      ]
     },
     "execution_count": 18,
     "metadata": {},
     "output_type": "execute_result"
    }
   ],
   "source": [
    "Video(\"videos/rl-video-episode-0.mp4\")"
   ]
  },
  {
   "cell_type": "markdown",
   "id": "0513f49d-1847-4b0d-8a5f-13f0f9141f53",
   "metadata": {},
   "source": [
    "## Preprocessing"
   ]
  },
  {
   "cell_type": "markdown",
   "id": "072e8911-614f-48e1-a2db-06facf58757e",
   "metadata": {},
   "source": [
    "The preprocessing from the paper is \n",
    "\n",
    "> The raw frames are preprocessed by first converting their RGB representation to gray-scale and down-sampling it to a 110×84 image. The final input representation is obtained by cropping an 84 × 84 region of the image that roughly captures the playing area.\n",
    "\n",
    "This comes available to us in the gymnasium wrappers."
   ]
  },
  {
   "cell_type": "code",
   "execution_count": 19,
   "id": "be7896e2-e6c9-43f9-a817-208f14db0b94",
   "metadata": {},
   "outputs": [],
   "source": [
    "from gymnasium.wrappers import AtariPreprocessing"
   ]
  },
  {
   "cell_type": "code",
   "execution_count": 20,
   "id": "da041236-5159-4158-be66-c168781f3b3f",
   "metadata": {},
   "outputs": [],
   "source": [
    "env = gym.make(\"ALE/Pacman-v5\", frameskip=1)\n",
    "env = AtariPreprocessing(env)"
   ]
  },
  {
   "cell_type": "code",
   "execution_count": 21,
   "id": "daf1749d-dd2e-4b0a-b872-233aa0205ac9",
   "metadata": {},
   "outputs": [
    {
     "data": {
      "text/plain": [
       "(84, 84)"
      ]
     },
     "execution_count": 21,
     "metadata": {},
     "output_type": "execute_result"
    }
   ],
   "source": [
    "obs, _ =  env.reset()\n",
    "obs.shape"
   ]
  },
  {
   "cell_type": "markdown",
   "id": "1f450fcf-5df4-42b3-83dc-45ae3a860ad4",
   "metadata": {},
   "source": [
    "They use a stack of 4 frames for each observation."
   ]
  },
  {
   "cell_type": "code",
   "execution_count": 22,
   "id": "8b75e6d5-f3c8-4279-8545-ffd5f2ab9b32",
   "metadata": {},
   "outputs": [],
   "source": [
    "from gymnasium.wrappers import FrameStackObservation\n",
    "\n",
    "# From the docs: \"Stacks the observations from the last ``N`` time steps in a rolling manner.\"\"\n",
    "env = FrameStackObservation(env, stack_size=4)"
   ]
  },
  {
   "cell_type": "code",
   "execution_count": 23,
   "id": "d8bb9633-b9f0-4690-a787-e1bb0d3960db",
   "metadata": {},
   "outputs": [
    {
     "data": {
      "text/plain": [
       "(4, 84, 84)"
      ]
     },
     "execution_count": 23,
     "metadata": {},
     "output_type": "execute_result"
    }
   ],
   "source": [
    "obs, _ =  env.reset()\n",
    "obs.shape"
   ]
  },
  {
   "cell_type": "markdown",
   "id": "45620676-f842-4232-9b6d-f0f563a04084",
   "metadata": {},
   "source": [
    "After that, one last thing I'll do is apply a transform to change the dimensions from channels, height widht, to height, width, channels, as that's how MLX neural network library expects things, and also convert it from int to float, by dividing by the max int value 255."
   ]
  },
  {
   "cell_type": "code",
   "execution_count": 24,
   "id": "368c6773-cd1c-4c78-be14-f781f0a4b35d",
   "metadata": {},
   "outputs": [
    {
     "data": {
      "text/plain": [
       "((84, 84, 4), dtype('float64'))"
      ]
     },
     "execution_count": 24,
     "metadata": {},
     "output_type": "execute_result"
    }
   ],
   "source": [
    "from gymnasium.wrappers import TransformObservation\n",
    "\n",
    "env = TransformObservation(env, lambda obs: obs.transpose(1,2,0) / 255., env.observation_space)\n",
    "obs, _ =  env.reset()\n",
    "obs.shape, obs.dtype"
   ]
  },
  {
   "cell_type": "markdown",
   "id": "3d0c58e9-375a-4272-98f5-feed03a99690",
   "metadata": {},
   "source": [
    "### Experience Replay\n",
    "\n"
   ]
  },
  {
   "cell_type": "markdown",
   "id": "a1604257-b355-44cb-af0c-a3008e30cef1",
   "metadata": {},
   "source": [
    "### Training\n",
    "\n",
    "Firstly, the introduce a concept called **Experience Replay Buffers**, they store an agents experience's at each time-step, $e_t = (s_t, a_t, r_t, s_{t+1})$\n",
    "\n",
    "> we utilize a technique known as experience replay [13] where we store the agent’s experiences at each time-step, et = (st, at, rt, st+1)\n",
    "in a data-set D = e1, ..., eN , pooled over many episodes into a replay memory. During the inner\n",
    "loop of the algorithm, we apply Q-learning updates, or minibatch updates, to samples of experience,\n",
    "e ∼ D, drawn at random from the pool of stored samples.\n",
    "\n",
    "I'll use a named tuple to create an experience instance."
   ]
  },
  {
   "cell_type": "code",
   "execution_count": 25,
   "id": "2aa21e12-9e80-4973-b03d-bfae39a3b974",
   "metadata": {},
   "outputs": [],
   "source": [
    "from typing import List\n",
    "from collections import namedtuple\n",
    "from pydantic import BaseModel\n",
    "\n",
    "Experience = namedtuple('Experience', ['state', 'action', 'reward', 'state_next', 'done'])\n",
    "experience_replay: List[Experience] = []"
   ]
  },
  {
   "cell_type": "markdown",
   "id": "027f0563-feb4-4a73-87a2-ffc64269a594",
   "metadata": {},
   "source": [
    "Now, for some number of episodes $M$, we're going to step through the game, either randomly performing actions, or sampling the action reward with the highest predicted score from the network.\n",
    "\n",
    "However, just randomly selection actions, means that the model may never find the optimial actions to take. Instead what we do is allow it to go random for half the episode, then gradually select optimal actions using the trained model.\n",
    "\n",
    "The probability of taking a random action decays, until eventaully we're only taking random choices 10% of the time.\n",
    "\n",
    "We also build our experience_replay buffer as  wel go."
   ]
  },
  {
   "cell_type": "code",
   "execution_count": null,
   "id": "18c5dccc-406a-4570-9b86-3c8e51610ffd",
   "metadata": {},
   "outputs": [],
   "source": []
  },
  {
   "cell_type": "code",
   "execution_count": 26,
   "id": "11c828fc-733b-440c-bfaf-42646458fedd",
   "metadata": {},
   "outputs": [],
   "source": [
    "# Configuration paramaters for the whole setup\n",
    "seed = 42\n",
    "gamma = 0.99  # Discount factor for past rewards\n",
    "epsilon = 1.0  # Epsilon greedy parameter\n",
    "epsilon_min = 0.1  # Minimum epsilon greedy parameter\n",
    "epsilon_max = 1.0  # Maximum epsilon greedy parameter\n",
    "epsilon_interval = (\n",
    "    epsilon_max - epsilon_min\n",
    ")  # Rate at which to reduce chance of random action being taken\n",
    "batch_size = 32  # Size of batch taken from replay buffer\n",
    "max_steps_per_episode = 10000\n",
    "frame_count = 0"
   ]
  },
  {
   "cell_type": "code",
   "execution_count": 27,
   "id": "dadb98e4-6767-40bb-b139-080bdd5a5acf",
   "metadata": {},
   "outputs": [],
   "source": [
    "M = 10000\n",
    "max_steps_per_episode = 10000\n",
    "# Number of frames for exploration\n",
    "epsilon_greedy_frames = 1000000.0\n",
    "# Number of frames to take random action and observe output\n",
    "epsilon_random_frames = 50000\n",
    "\n",
    "for episode_num in range(2):\n",
    "    # Initialise episode\n",
    "    state, info = env.reset()\n",
    "\n",
    "    # Convert to float\n",
    "    state = mx.array(state) / 255.\n",
    "\n",
    "    episode_reward = 0\n",
    "    \n",
    "    for i in range(max_steps_per_episode):\n",
    "        frame_count += 1\n",
    "        if frame_count < epsilon_random_frames or epsilon > mx.random.uniform().item():\n",
    "            action = mx.random.randint(0, env.action_space.n).item()\n",
    "        else:\n",
    "            action = mx.argmax(model(mx.expand_dims(state, 0))).item()\n",
    "            \n",
    "        epsilon -= epsilon_interval / epsilon_greedy_frames\n",
    "        epsilon = max(epsilon, epsilon_min)\n",
    "        \n",
    "        # Apply the sampled action in our environment\n",
    "        state_next, reward, terminated, truncated, info = env.step(action)\n",
    "        \n",
    "        state_next = mx.array(state_next) / 255.\n",
    "        \n",
    "        episode_reward += reward\n",
    "        done = terminated or truncated\n",
    "        experience_replay.append(\n",
    "            Experience(\n",
    "                state=state,\n",
    "                action=action,\n",
    "                reward=reward,\n",
    "                state_next=state_next,\n",
    "                done=done))\n",
    "                \n",
    "        state = state_next\n",
    "\n",
    "        if done:\n",
    "            break"
   ]
  },
  {
   "cell_type": "code",
   "execution_count": 28,
   "id": "afc3e831-c054-4c34-b6b1-d7ef6cbec7c2",
   "metadata": {},
   "outputs": [
    {
     "data": {
      "text/plain": [
       "(84, 84, 4)"
      ]
     },
     "execution_count": 28,
     "metadata": {},
     "output_type": "execute_result"
    }
   ],
   "source": [
    "state.shape"
   ]
  },
  {
   "cell_type": "code",
   "execution_count": 29,
   "id": "2b3e0050-b6c5-4fd9-aafd-7dbc7190187a",
   "metadata": {},
   "outputs": [
    {
     "data": {
      "text/plain": [
       "(84, 84, 4)"
      ]
     },
     "execution_count": 29,
     "metadata": {},
     "output_type": "execute_result"
    }
   ],
   "source": [
    "state.shape"
   ]
  },
  {
   "cell_type": "code",
   "execution_count": 30,
   "id": "5f826aa7-5996-40e3-90db-a5de63bf3f4a",
   "metadata": {},
   "outputs": [
    {
     "data": {
      "text/plain": [
       "(84, 84, 4, 1)"
      ]
     },
     "execution_count": 30,
     "metadata": {},
     "output_type": "execute_result"
    }
   ],
   "source": [
    "mx.expand_dims(state, -1).shape"
   ]
  },
  {
   "cell_type": "code",
   "execution_count": 31,
   "id": "2b71ddfb-26db-4c84-9bb9-8a19bd8d925e",
   "metadata": {},
   "outputs": [
    {
     "data": {
      "text/plain": [
       "(84, 84, 4)"
      ]
     },
     "execution_count": 31,
     "metadata": {},
     "output_type": "execute_result"
    }
   ],
   "source": [
    "state.shape"
   ]
  },
  {
   "cell_type": "markdown",
   "id": "bad2ddc8-990e-4a01-981f-9a9113ff0786",
   "metadata": {},
   "source": [
    "Now the really interesting part. Even 4 steps, we sample from our experience replay buffer. We take a sample of a mini batch of states, along with the action taken, reward, and next state.\n",
    "\n",
    "I'll firstly get a batch size of random indicies."
   ]
  },
  {
   "cell_type": "code",
   "execution_count": 32,
   "id": "54269a30-ab8c-4e02-b101-81875aad9fa4",
   "metadata": {},
   "outputs": [],
   "source": [
    "indices = mx.random.randint(0, len(experience_replay), shape=(batch_size,))\n",
    "indices = list(int(i) for i in indices)"
   ]
  },
  {
   "cell_type": "markdown",
   "id": "427bb869-0d43-4540-8f90-3b09f3e68f6b",
   "metadata": {},
   "source": [
    "Now to fetch those corresponding experiences, \"done\" values, actions and rewards."
   ]
  },
  {
   "cell_type": "code",
   "execution_count": 33,
   "id": "9729f953-e120-4380-8246-7bf2a9cb2f68",
   "metadata": {},
   "outputs": [
    {
     "data": {
      "text/plain": [
       "(84, 84, 4)"
      ]
     },
     "execution_count": 33,
     "metadata": {},
     "output_type": "execute_result"
    }
   ],
   "source": [
    "experience_sample = [experience_replay[i] for i in indices]\n",
    "done_sample = mx.array([experience_replay[i].done for i in indices])\n",
    "action_sample = mx.array([experience_replay[i].action for i in indices])\n",
    "rewards_sample = mx.array([experience_sample[i].reward for i in range(len(indices))])\n",
    "state_sample = mx.array([experience_sample[i].state for i in range(len(indices))])\n",
    "experience_sample[0].state.shape"
   ]
  },
  {
   "cell_type": "code",
   "execution_count": 34,
   "id": "78291e60-a24d-41eb-82eb-ac17fd985f93",
   "metadata": {},
   "outputs": [
    {
     "data": {
      "text/plain": [
       "[array(False, dtype=bool),\n",
       " array(False, dtype=bool),\n",
       " array(False, dtype=bool),\n",
       " array(False, dtype=bool),\n",
       " array(False, dtype=bool),\n",
       " array(False, dtype=bool),\n",
       " array(False, dtype=bool),\n",
       " array(False, dtype=bool),\n",
       " array(False, dtype=bool),\n",
       " array(False, dtype=bool),\n",
       " array(False, dtype=bool),\n",
       " array(False, dtype=bool),\n",
       " array(False, dtype=bool),\n",
       " array(False, dtype=bool),\n",
       " array(False, dtype=bool),\n",
       " array(False, dtype=bool),\n",
       " array(False, dtype=bool),\n",
       " array(False, dtype=bool),\n",
       " array(False, dtype=bool),\n",
       " array(False, dtype=bool),\n",
       " array(False, dtype=bool),\n",
       " array(False, dtype=bool),\n",
       " array(False, dtype=bool),\n",
       " array(False, dtype=bool),\n",
       " array(False, dtype=bool),\n",
       " array(False, dtype=bool),\n",
       " array(False, dtype=bool),\n",
       " array(False, dtype=bool),\n",
       " array(False, dtype=bool),\n",
       " array(False, dtype=bool),\n",
       " array(False, dtype=bool),\n",
       " array(False, dtype=bool)]"
      ]
     },
     "execution_count": 34,
     "metadata": {},
     "output_type": "execute_result"
    }
   ],
   "source": [
    "list(done_sample)"
   ]
  },
  {
   "cell_type": "markdown",
   "id": "24a7fcd2-123a-4744-82fd-22c8982a205a",
   "metadata": {},
   "source": [
    "We fetch the estimated rewards using our model."
   ]
  },
  {
   "cell_type": "code",
   "execution_count": 35,
   "id": "74766129-5c90-40d8-96b0-44025e6d27e2",
   "metadata": {},
   "outputs": [
    {
     "data": {
      "text/plain": [
       "(1, 5)"
      ]
     },
     "execution_count": 35,
     "metadata": {},
     "output_type": "execute_result"
    }
   ],
   "source": [
    "future_rewards = model(mx.expand_dims(state_next, 0))\n",
    "future_rewards.shape"
   ]
  },
  {
   "cell_type": "markdown",
   "id": "eae6fe83-f530-4cea-a616-a5f355ac7d22",
   "metadata": {},
   "source": [
    "For the \"ground-truth\" label, we take the actual reward from that step, and add to the expected future reward, multipled by a discount factor."
   ]
  },
  {
   "cell_type": "code",
   "execution_count": 36,
   "id": "a2d1f70d-cf85-41f9-88f2-34fe61049163",
   "metadata": {},
   "outputs": [
    {
     "data": {
      "text/plain": [
       "(32,)"
      ]
     },
     "execution_count": 36,
     "metadata": {},
     "output_type": "execute_result"
    }
   ],
   "source": [
    "# Q value = reward + discount factor * expected future reward\n",
    "ground_truth_q_values = rewards_sample + gamma * mx.max(future_rewards, axis=1)\n",
    "ground_truth_q_values.shape"
   ]
  },
  {
   "cell_type": "code",
   "execution_count": null,
   "id": "0ae0ddf1-5aff-4e49-b1b8-132c3aa3c235",
   "metadata": {},
   "outputs": [],
   "source": []
  },
  {
   "cell_type": "code",
   "execution_count": 37,
   "id": "4ba26a61-78e2-4b87-a093-aa5881e89877",
   "metadata": {},
   "outputs": [
    {
     "data": {
      "text/plain": [
       "array([False, False, False, ..., False, False, False], dtype=bool)"
      ]
     },
     "execution_count": 37,
     "metadata": {},
     "output_type": "execute_result"
    }
   ],
   "source": [
    "done_sample"
   ]
  },
  {
   "cell_type": "code",
   "execution_count": 38,
   "id": "796db762-8122-4dd2-956c-8f18bb773b73",
   "metadata": {},
   "outputs": [],
   "source": [
    "# If final frame set the last value to -1\n",
    "ground_truth_q_values = ground_truth_q_values * (1 - done_sample) - done_sample"
   ]
  },
  {
   "cell_type": "code",
   "execution_count": null,
   "id": "5d3bc99f-0e2f-4380-895e-ed024ec5da82",
   "metadata": {},
   "outputs": [],
   "source": []
  },
  {
   "cell_type": "code",
   "execution_count": 40,
   "id": "c4de3b02-1da0-4eca-82ec-095c98535a38",
   "metadata": {},
   "outputs": [
    {
     "data": {
      "text/plain": [
       "(32,)"
      ]
     },
     "execution_count": 40,
     "metadata": {},
     "output_type": "execute_result"
    }
   ],
   "source": [
    "done_sample.shape"
   ]
  },
  {
   "cell_type": "code",
   "execution_count": null,
   "id": "7e610fdf-5992-4086-8c2e-6c6a18ff78b5",
   "metadata": {},
   "outputs": [],
   "source": []
  },
  {
   "cell_type": "markdown",
   "id": "100d769e-c1c5-4338-9eb8-66f1373f8152",
   "metadata": {},
   "source": [
    "To calculate the loss, we calculate the expected reward from the "
   ]
  },
  {
   "cell_type": "code",
   "execution_count": 41,
   "id": "fdf2912a-8cdd-4386-976a-7bd622e25dd7",
   "metadata": {},
   "outputs": [
    {
     "data": {
      "text/plain": [
       "(32, 5)"
      ]
     },
     "execution_count": 41,
     "metadata": {},
     "output_type": "execute_result"
    }
   ],
   "source": [
    "masks = mx.eye(env.action_space.n)[action_sample]\n",
    "masks.shape"
   ]
  },
  {
   "cell_type": "code",
   "execution_count": 42,
   "id": "ddedcae1-12c5-42e5-98e0-1b7c580101d5",
   "metadata": {},
   "outputs": [
    {
     "data": {
      "text/plain": [
       "array([[0, 0, 0, 0, 1],\n",
       "       [0, 1, 0, 0, 0],\n",
       "       [1, 0, 0, 0, 0],\n",
       "       ...,\n",
       "       [0, 0, 0, 0, 1],\n",
       "       [0, 0, 1, 0, 0],\n",
       "       [0, 1, 0, 0, 0]], dtype=float32)"
      ]
     },
     "execution_count": 42,
     "metadata": {},
     "output_type": "execute_result"
    }
   ],
   "source": [
    "masks"
   ]
  },
  {
   "cell_type": "code",
   "execution_count": 43,
   "id": "5ae7c8e9-bfef-4210-912c-d0fab7e04977",
   "metadata": {},
   "outputs": [
    {
     "data": {
      "text/plain": [
       "(32, 84, 84, 4)"
      ]
     },
     "execution_count": 43,
     "metadata": {},
     "output_type": "execute_result"
    }
   ],
   "source": [
    "state_sample =  mx.array([experience_replay[i].state for i in indices])\n",
    "state_sample.shape"
   ]
  },
  {
   "cell_type": "code",
   "execution_count": 44,
   "id": "2f48981e-b10f-4fb7-9557-55d96e53f2b1",
   "metadata": {},
   "outputs": [
    {
     "data": {
      "text/plain": [
       "(32, 5)"
      ]
     },
     "execution_count": 44,
     "metadata": {},
     "output_type": "execute_result"
    }
   ],
   "source": [
    "q_values = model(state_sample)\n",
    "q_values.shape"
   ]
  },
  {
   "cell_type": "code",
   "execution_count": 45,
   "id": "813c7554-3b07-4f3a-8f41-840ea8113179",
   "metadata": {},
   "outputs": [],
   "source": [
    "q_action = mx.sum(q_values * masks, axis=1)"
   ]
  },
  {
   "cell_type": "markdown",
   "id": "d97659cf-3cf8-4c4e-9e3b-686427bfbc8e",
   "metadata": {},
   "source": [
    "In the paper, the loss function is Huber loss."
   ]
  },
  {
   "cell_type": "code",
   "execution_count": 46,
   "id": "f3c60dd5-e8a8-48f6-8872-f20efc57a722",
   "metadata": {},
   "outputs": [],
   "source": [
    "from mlx.nn.losses import huber_loss\n",
    "import mlx.nn as nn\n",
    "from mlx import optimizers as optim"
   ]
  },
  {
   "cell_type": "code",
   "execution_count": 47,
   "id": "dde0e734-5875-4fd6-b8bd-3b228488a29a",
   "metadata": {},
   "outputs": [
    {
     "data": {
      "text/plain": [
       "<function mlx.nn.losses.huber_loss(inputs: mlx.core.array, targets: mlx.core.array, delta: float = 1.0, reduction: Literal['none', 'mean', 'sum'] = 'none') -> mlx.core.array>"
      ]
     },
     "execution_count": 47,
     "metadata": {},
     "output_type": "execute_result"
    }
   ],
   "source": [
    "huber_loss"
   ]
  },
  {
   "cell_type": "code",
   "execution_count": 48,
   "id": "a4e847c3-8c60-416b-9f4f-e47a7191df69",
   "metadata": {},
   "outputs": [],
   "source": [
    "def loss_fn(predictions, targets):\n",
    "    return mx.mean(huber_loss(predictions, targets))"
   ]
  },
  {
   "cell_type": "code",
   "execution_count": 49,
   "id": "7d7bcc62-2b54-4262-aee5-861966f13b01",
   "metadata": {},
   "outputs": [],
   "source": [
    "learning_rate = 0.00025\n",
    "optimizer = optim.Adam(learning_rate=learning_rate)"
   ]
  },
  {
   "cell_type": "code",
   "execution_count": null,
   "id": "e3dab522-5a32-4d46-a114-434052ec1ad6",
   "metadata": {},
   "outputs": [],
   "source": []
  },
  {
   "cell_type": "code",
   "execution_count": null,
   "id": "77b8720f-7d8c-4400-924f-0f7a6c4c25b9",
   "metadata": {},
   "outputs": [],
   "source": []
  },
  {
   "cell_type": "code",
   "execution_count": null,
   "id": "32678fa0-3ea7-41d9-ba71-014359dc27ae",
   "metadata": {},
   "outputs": [],
   "source": []
  },
  {
   "cell_type": "code",
   "execution_count": 50,
   "id": "12a465ff-2663-40e8-9e42-13568fbf9875",
   "metadata": {},
   "outputs": [],
   "source": [
    "# Define a loss function\n",
    "def compute_loss(states, actions, targets):\n",
    "    # Forward pass to get Q-values\n",
    "    q_values = model(states)\n",
    "    \n",
    "    # Select the Q-values for the actions taken\n",
    "    masks = mx.eye(env.action_space.n)[actions]\n",
    "    q_action = mx.sum(q_values * masks, axis=1)\n",
    "    \n",
    "    # Compute Huber loss\n",
    "    return mx.mean(huber_loss(q_action, targets))\n",
    "\n",
    "# Create a function that returns loss and gradients\n",
    "def loss_and_grad(params, states, actions, targets):\n",
    "    model.update(params)\n",
    "    return compute_loss(states, actions, targets)\n",
    "\n",
    "# Create the gradient function\n",
    "grad_fn = mx.value_and_grad(loss_and_grad)\n",
    "\n",
    "# Optimization step - NOT compiled for now to avoid the item() issue\n",
    "def train_step(states, actions, targets):\n",
    "    # Get current parameters\n",
    "    params = model.trainable_parameters()\n",
    "    \n",
    "    # Compute loss and gradients\n",
    "    loss, grads = grad_fn(params, states, actions, targets)\n",
    "    \n",
    "    # Update parameters using optimizer\n",
    "    optimizer.update(model, grads)\n",
    "    \n",
    "    # Return the loss value, not the compiled function\n",
    "    return loss"
   ]
  },
  {
   "cell_type": "code",
   "execution_count": 51,
   "id": "99c4a3f2-a268-4d61-8e9f-9f422cb87eca",
   "metadata": {},
   "outputs": [
    {
     "name": "stdout",
     "output_type": "stream",
     "text": [
      "Loss: 0.0008162444573827088\n"
     ]
    }
   ],
   "source": [
    "next_q_values = model(state_sample)\n",
    "max_next_q = mx.max(next_q_values, axis=1)\n",
    "targets = rewards_sample + gamma * max_next_q * (1 - done_sample)\n",
    "\n",
    "# Perform training step\n",
    "loss = train_step(state_sample, action_sample, targets)\n",
    "print(f\"Loss: {float(loss)}\")  # Convert to float instead of using item()"
   ]
  },
  {
   "cell_type": "code",
   "execution_count": null,
   "id": "4b2bc4cc-f0fe-4624-a3d9-51e993d8d6b3",
   "metadata": {},
   "outputs": [],
   "source": [
    "q_action = mx.sum(q_values * masks, axis=1)"
   ]
  },
  {
   "cell_type": "code",
   "execution_count": null,
   "id": "aaf7092d-b1f2-43ba-94a5-f9a15c13e2a2",
   "metadata": {},
   "outputs": [],
   "source": [
    "loss = step(ground_truth_q_values, q_action)"
   ]
  },
  {
   "cell_type": "code",
   "execution_count": null,
   "id": "eadd8ce3-3bb0-4752-8bd5-746f8cca4044",
   "metadata": {},
   "outputs": [],
   "source": []
  }
 ],
 "metadata": {
  "kernelspec": {
   "display_name": "Python 3 (ipykernel)",
   "language": "python",
   "name": "python3"
  },
  "language_info": {
   "codemirror_mode": {
    "name": "ipython",
    "version": 3
   },
   "file_extension": ".py",
   "mimetype": "text/x-python",
   "name": "python",
   "nbconvert_exporter": "python",
   "pygments_lexer": "ipython3",
   "version": "3.10.9"
  }
 },
 "nbformat": 4,
 "nbformat_minor": 5
}
